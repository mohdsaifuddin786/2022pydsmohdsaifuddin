{
 "cells": [
  {
   "cell_type": "markdown",
   "metadata": {},
   "source": [
    "# string function\n",
    "- formattin\n",
    "- validation\n",
    "- utility"
   ]
  },
  {
   "cell_type": "code",
   "execution_count": 1,
   "metadata": {},
   "outputs": [],
   "source": [
    "x =2984\n",
    "a= \"laptop\"\n",
    "c = \"consumer id\"\n"
   ]
  },
  {
   "cell_type": "code",
   "execution_count": 2,
   "metadata": {},
   "outputs": [
    {
     "name": "stdout",
     "output_type": "stream",
     "text": [
      " the laptop was purchase viaconsumer id = 2984\n"
     ]
    }
   ],
   "source": [
    "print(\" the {} was purchase via{} = {}\".format(a,c,x))"
   ]
  },
  {
   "cell_type": "code",
   "execution_count": 3,
   "metadata": {},
   "outputs": [
    {
     "name": "stdout",
     "output_type": "stream",
     "text": [
      "the laptop was purchase via consumer id =2984\n"
     ]
    }
   ],
   "source": [
    "print(f'the {a} was purchase via {c} ={x}')"
   ]
  },
  {
   "cell_type": "code",
   "execution_count": 4,
   "metadata": {},
   "outputs": [],
   "source": [
    "quote ='life before death ,hope before despair,journey before destination'"
   ]
  },
  {
   "cell_type": "code",
   "execution_count": 5,
   "metadata": {},
   "outputs": [
    {
     "data": {
      "text/plain": [
       "'LIFE BEFORE DEATH ,HOPE BEFORE DESPAIR,JOURNEY BEFORE DESTINATION'"
      ]
     },
     "execution_count": 5,
     "metadata": {},
     "output_type": "execute_result"
    }
   ],
   "source": [
    "quote.upper()"
   ]
  },
  {
   "cell_type": "code",
   "execution_count": 6,
   "metadata": {},
   "outputs": [
    {
     "name": "stdout",
     "output_type": "stream",
     "text": [
      "LIFE BEFORE DEATH ,HOPE BEFORE DESPAIR,JOURNEY BEFORE DESTINATION\n"
     ]
    }
   ],
   "source": [
    "q = quote.upper()\n",
    "print(q)"
   ]
  },
  {
   "cell_type": "code",
   "execution_count": 7,
   "metadata": {},
   "outputs": [
    {
     "data": {
      "text/plain": [
       "'life before death ,hope before despair,journey before destination'"
      ]
     },
     "execution_count": 7,
     "metadata": {},
     "output_type": "execute_result"
    }
   ],
   "source": [
    "quote.lower()"
   ]
  },
  {
   "cell_type": "code",
   "execution_count": 8,
   "metadata": {},
   "outputs": [
    {
     "data": {
      "text/plain": [
       "'life before death ,hope before despair,journey before destination'"
      ]
     },
     "execution_count": 8,
     "metadata": {},
     "output_type": "execute_result"
    }
   ],
   "source": [
    "quote.casefold()"
   ]
  },
  {
   "cell_type": "code",
   "execution_count": 9,
   "metadata": {},
   "outputs": [
    {
     "data": {
      "text/plain": [
       "'Life Before Death ,Hope Before Despair,Journey Before Destination'"
      ]
     },
     "execution_count": 9,
     "metadata": {},
     "output_type": "execute_result"
    }
   ],
   "source": [
    "quote.title()"
   ]
  },
  {
   "cell_type": "code",
   "execution_count": 11,
   "metadata": {},
   "outputs": [
    {
     "data": {
      "text/plain": [
       "'Life before death ,hope before despair,journey before destination'"
      ]
     },
     "execution_count": 11,
     "metadata": {},
     "output_type": "execute_result"
    }
   ],
   "source": [
    "quote.capitalize()"
   ]
  },
  {
   "cell_type": "code",
   "execution_count": 12,
   "metadata": {},
   "outputs": [
    {
     "data": {
      "text/plain": [
       "'LIFE BEFORE DEATH ,HOPE BEFORE DESPAIR,JOURNEY BEFORE DESTINATION'"
      ]
     },
     "execution_count": 12,
     "metadata": {},
     "output_type": "execute_result"
    }
   ],
   "source": [
    "quote.swapcase()"
   ]
  },
  {
   "cell_type": "code",
   "execution_count": 13,
   "metadata": {},
   "outputs": [
    {
     "data": {
      "text/plain": [
       "'laptop'"
      ]
     },
     "execution_count": 13,
     "metadata": {},
     "output_type": "execute_result"
    }
   ],
   "source": [
    "a"
   ]
  },
  {
   "cell_type": "code",
   "execution_count": 14,
   "metadata": {},
   "outputs": [
    {
     "data": {
      "text/plain": [
       "'laptop                   '"
      ]
     },
     "execution_count": 14,
     "metadata": {},
     "output_type": "execute_result"
    }
   ],
   "source": [
    "a.ljust(25)"
   ]
  },
  {
   "cell_type": "code",
   "execution_count": 15,
   "metadata": {},
   "outputs": [
    {
     "data": {
      "text/plain": [
       "'                   laptop'"
      ]
     },
     "execution_count": 15,
     "metadata": {},
     "output_type": "execute_result"
    }
   ],
   "source": [
    "a.rjust(25)"
   ]
  },
  {
   "cell_type": "code",
   "execution_count": 16,
   "metadata": {},
   "outputs": [
    {
     "data": {
      "text/plain": [
       "'          laptop         '"
      ]
     },
     "execution_count": 16,
     "metadata": {},
     "output_type": "execute_result"
    }
   ],
   "source": [
    "a.center(25)"
   ]
  },
  {
   "cell_type": "code",
   "execution_count": 17,
   "metadata": {},
   "outputs": [
    {
     "name": "stdout",
     "output_type": "stream",
     "text": [
      "5 9765625\n",
      "6 60466176\n",
      "7 282475249\n",
      "8 1073741824\n",
      "9 3486784401\n",
      "10 10000000000\n",
      "11 25937424601\n",
      "12 61917364224\n",
      "13 137858491849\n",
      "14 289254654976\n"
     ]
    }
   ],
   "source": [
    "for i in range (5,15):\n",
    "    print(i,i**10)"
   ]
  },
  {
   "cell_type": "code",
   "execution_count": 18,
   "metadata": {},
   "outputs": [
    {
     "name": "stdout",
     "output_type": "stream",
     "text": [
      "5         9765625\n",
      "6        60466176\n",
      "7       282475249\n",
      "8      1073741824\n",
      "9      3486784401\n",
      "10     10000000000\n",
      "11     25937424601\n",
      "12     61917364224\n",
      "13    137858491849\n",
      "14    289254654976\n"
     ]
    }
   ],
   "source": [
    "for i in range (5,15):\n",
    "    print(i,str(i**10).rjust(15))"
   ]
  },
  {
   "cell_type": "code",
   "execution_count": 19,
   "metadata": {},
   "outputs": [
    {
     "name": "stdout",
     "output_type": "stream",
     "text": [
      "5             9765625\n",
      "6            60466176\n",
      "7           282475249\n",
      "8          1073741824\n",
      "9          3486784401\n",
      "10        10000000000\n",
      "11        25937424601\n",
      "12        61917364224\n",
      "13       137858491849\n",
      "14       289254654976\n"
     ]
    }
   ],
   "source": [
    "for i in range (5,15):\n",
    "    print(str(i).ljust(5),str(i**10).rjust(15))"
   ]
  },
  {
   "cell_type": "code",
   "execution_count": 21,
   "metadata": {},
   "outputs": [
    {
     "data": {
      "text/plain": [
       "True"
      ]
     },
     "execution_count": 21,
     "metadata": {},
     "output_type": "execute_result"
    }
   ],
   "source": [
    "x=\"world\"\n",
    "x.isalpha()"
   ]
  },
  {
   "cell_type": "code",
   "execution_count": 22,
   "metadata": {},
   "outputs": [
    {
     "name": "stdout",
     "output_type": "stream",
     "text": [
      "life before death ,hope before despair,journey before destination\n"
     ]
    },
    {
     "data": {
      "text/plain": [
       "False"
      ]
     },
     "execution_count": 22,
     "metadata": {},
     "output_type": "execute_result"
    }
   ],
   "source": [
    "print(quote)\n",
    "quote.isalpha()"
   ]
  },
  {
   "cell_type": "code",
   "execution_count": 24,
   "metadata": {},
   "outputs": [
    {
     "data": {
      "text/plain": [
       "True"
      ]
     },
     "execution_count": 24,
     "metadata": {},
     "output_type": "execute_result"
    }
   ],
   "source": [
    "x.isascii()"
   ]
  },
  {
   "cell_type": "markdown",
   "metadata": {},
   "source": [
    "# wap  to remove all the vowels"
   ]
  },
  {
   "cell_type": "code",
   "execution_count": 26,
   "metadata": {},
   "outputs": [
    {
     "name": "stdout",
     "output_type": "stream",
     "text": [
      " my n m   s m hd s  f dd n\n"
     ]
    }
   ],
   "source": [
    "junk = \" my name is mohd saifuddin\"\n",
    "vowels =\"aeiouAEIOU\" \n",
    "for vowel in vowels:\n",
    "    junk = junk.replace(vowel, \" \")\n",
    "print (junk)\n"
   ]
  },
  {
   "cell_type": "markdown",
   "metadata": {},
   "source": [
    "# wap to replace all special character with _"
   ]
  },
  {
   "cell_type": "code",
   "execution_count": 32,
   "metadata": {},
   "outputs": [
    {
     "name": "stdout",
     "output_type": "stream",
     "text": [
      "my password is sa    if\n"
     ]
    }
   ],
   "source": [
    "cache = \"my password is sa@$^&if\"\n",
    "special_characters = \"@$^&\"\n",
    "for special_character in special_characters:\n",
    "    cache = cache.replace(special_character,\" \")\n",
    "print(cache)"
   ]
  },
  {
   "cell_type": "code",
   "execution_count": 33,
   "metadata": {},
   "outputs": [
    {
     "name": "stdout",
     "output_type": "stream",
     "text": [
      "my password is saif\n"
     ]
    }
   ],
   "source": [
    "cache = \"my password is sa@$^&if\"\n",
    "special_characters = \"@$^&\"\n",
    "for special_character in special_characters:\n",
    "    cache = cache.replace(special_character,\"\") # without space\n",
    "print(cache)"
   ]
  },
  {
   "cell_type": "code",
   "execution_count": 34,
   "metadata": {},
   "outputs": [
    {
     "data": {
      "text/plain": [
       "['life',\n",
       " 'before',\n",
       " 'death',\n",
       " ',hope',\n",
       " 'before',\n",
       " 'despair,journey',\n",
       " 'before',\n",
       " 'destination']"
      ]
     },
     "execution_count": 34,
     "metadata": {},
     "output_type": "execute_result"
    }
   ],
   "source": [
    "quote.split()"
   ]
  },
  {
   "cell_type": "code",
   "execution_count": 35,
   "metadata": {},
   "outputs": [],
   "source": [
    "str2 = \"hi,i,am,saif\""
   ]
  },
  {
   "cell_type": "code",
   "execution_count": 36,
   "metadata": {},
   "outputs": [
    {
     "data": {
      "text/plain": [
       "['hi,i,am,saif']"
      ]
     },
     "execution_count": 36,
     "metadata": {},
     "output_type": "execute_result"
    }
   ],
   "source": [
    "str2.split()"
   ]
  },
  {
   "cell_type": "code",
   "execution_count": 38,
   "metadata": {},
   "outputs": [
    {
     "data": {
      "text/plain": [
       "['hi', 'i', 'am', 'saif']"
      ]
     },
     "execution_count": 38,
     "metadata": {},
     "output_type": "execute_result"
    }
   ],
   "source": [
    "str2.split(\",\")"
   ]
  },
  {
   "cell_type": "code",
   "execution_count": 39,
   "metadata": {},
   "outputs": [
    {
     "name": "stdout",
     "output_type": "stream",
     "text": [
      "we have 4 world in str2\n"
     ]
    }
   ],
   "source": [
    "li1 = str2.split(\",\")\n",
    "print(\"we have\",len(li1),\"world in str2\")"
   ]
  },
  {
   "cell_type": "code",
   "execution_count": 40,
   "metadata": {},
   "outputs": [
    {
     "data": {
      "text/plain": [
       "['lif',\n",
       " ' b',\n",
       " 'for',\n",
       " ' d',\n",
       " 'ath ,hop',\n",
       " ' b',\n",
       " 'for',\n",
       " ' d',\n",
       " 'spair,journ',\n",
       " 'y b',\n",
       " 'for',\n",
       " ' d',\n",
       " 'stination']"
      ]
     },
     "execution_count": 40,
     "metadata": {},
     "output_type": "execute_result"
    }
   ],
   "source": [
    "quote.split(\"e\")"
   ]
  },
  {
   "cell_type": "code",
   "execution_count": 14,
   "metadata": {},
   "outputs": [],
   "source": [
    "message =\"this is a place where we have written a message.this is a place where we more messages\""
   ]
  },
  {
   "cell_type": "code",
   "execution_count": 2,
   "metadata": {},
   "outputs": [
    {
     "data": {
      "text/plain": [
       "8"
      ]
     },
     "execution_count": 2,
     "metadata": {},
     "output_type": "execute_result"
    }
   ],
   "source": [
    "message.count(\"a\")"
   ]
  },
  {
   "cell_type": "code",
   "execution_count": 3,
   "metadata": {},
   "outputs": [
    {
     "data": {
      "text/plain": [
       "2"
      ]
     },
     "execution_count": 3,
     "metadata": {},
     "output_type": "execute_result"
    }
   ],
   "source": [
    "message.count('place')"
   ]
  },
  {
   "cell_type": "code",
   "execution_count": 4,
   "metadata": {},
   "outputs": [
    {
     "data": {
      "text/plain": [
       "0"
      ]
     },
     "execution_count": 4,
     "metadata": {},
     "output_type": "execute_result"
    }
   ],
   "source": [
    "message.count(\"plant\")"
   ]
  },
  {
   "cell_type": "markdown",
   "metadata": {},
   "source": [
    "# alphabet counter"
   ]
  },
  {
   "cell_type": "code",
   "execution_count": 7,
   "metadata": {},
   "outputs": [
    {
     "name": "stdout",
     "output_type": "stream",
     "text": [
      "a:8\n",
      "b:0\n",
      "c:2\n",
      "d:0\n",
      "e:15\n",
      "f:0\n",
      "g:2\n",
      "h:5\n",
      "i:5\n",
      "j:0\n",
      "k:0\n",
      "l:2\n",
      "m:3\n",
      "n:1\n",
      "o:1\n",
      "p:2\n",
      "q:0\n",
      "r:4\n",
      "s:9\n",
      "t:4\n",
      "u:0\n",
      "v:1\n",
      "w:5\n",
      "x:0\n",
      "y:0\n",
      "z:0\n"
     ]
    }
   ],
   "source": [
    "for char in \"abcdefghijklmnopqrstuvwxyz\":\n",
    "    print(f\"{char}:{message.count(char)}\")"
   ]
  },
  {
   "cell_type": "code",
   "execution_count": 10,
   "metadata": {},
   "outputs": [
    {
     "name": "stdout",
     "output_type": "stream",
     "text": [
      "a:8\n",
      "c:2\n",
      "e:15\n",
      "g:2\n",
      "h:5\n",
      "i:5\n",
      "l:2\n",
      "m:3\n",
      "n:1\n",
      "o:1\n",
      "p:2\n",
      "r:4\n",
      "s:9\n",
      "t:4\n",
      "v:1\n",
      "w:5\n"
     ]
    }
   ],
   "source": [
    "for char in \"abcdefghijklmnopqrstuvwxyz\":\n",
    "    count = message.count (char)\n",
    "    if count > 0:\n",
    "        print(f\"{char}:{count}\")"
   ]
  },
  {
   "cell_type": "code",
   "execution_count": 11,
   "metadata": {},
   "outputs": [
    {
     "data": {
      "text/plain": [
       "16"
      ]
     },
     "execution_count": 11,
     "metadata": {},
     "output_type": "execute_result"
    }
   ],
   "source": [
    "len(message.split())"
   ]
  },
  {
   "cell_type": "markdown",
   "metadata": {},
   "source": [
    "# word counter"
   ]
  },
  {
   "cell_type": "code",
   "execution_count": 17,
   "metadata": {},
   "outputs": [
    {
     "name": "stdout",
     "output_type": "stream",
     "text": [
      "{'place', 'we', 'where', 'written', 'this', 'more', 'is', 'message.this', 'a', 'messages', 'have'}\n"
     ]
    }
   ],
   "source": [
    "unique_word = set(message.split()) #set is used to get only unique values\n",
    "print(unique_word)"
   ]
  },
  {
   "cell_type": "code",
   "execution_count": 18,
   "metadata": {},
   "outputs": [
    {
     "name": "stdout",
     "output_type": "stream",
     "text": [
      "place->2\n",
      "we->2\n",
      "where->2\n",
      "written->1\n",
      "this->1\n",
      "more->1\n",
      "is->2\n",
      "message.this->1\n",
      "a->3\n",
      "messages->1\n",
      "have->1\n"
     ]
    }
   ],
   "source": [
    "for word in unique_word:\n",
    "    word_list =message.split()\n",
    "    wc = word_list.count(word)\n",
    "    print(f\"{word}->{wc}\")"
   ]
  },
  {
   "cell_type": "code",
   "execution_count": 15,
   "metadata": {},
   "outputs": [
    {
     "data": {
      "text/plain": [
       "['this', 'is', 'sparta']"
      ]
     },
     "execution_count": 15,
     "metadata": {},
     "output_type": "execute_result"
    }
   ],
   "source": [
    "\"this is sparta\".split()"
   ]
  },
  {
   "cell_type": "code",
   "execution_count": 19,
   "metadata": {},
   "outputs": [],
   "source": [
    "q = \"the only step a person can take is, the next step\""
   ]
  },
  {
   "cell_type": "code",
   "execution_count": 20,
   "metadata": {},
   "outputs": [
    {
     "data": {
      "text/plain": [
       "16"
      ]
     },
     "execution_count": 20,
     "metadata": {},
     "output_type": "execute_result"
    }
   ],
   "source": [
    "q.find(\"person\")"
   ]
  },
  {
   "cell_type": "code",
   "execution_count": 21,
   "metadata": {},
   "outputs": [
    {
     "data": {
      "text/plain": [
       "4"
      ]
     },
     "execution_count": 21,
     "metadata": {},
     "output_type": "execute_result"
    }
   ],
   "source": [
    "q.find(\"only\")"
   ]
  },
  {
   "cell_type": "code",
   "execution_count": 22,
   "metadata": {},
   "outputs": [
    {
     "data": {
      "text/plain": [
       "5"
      ]
     },
     "execution_count": 22,
     "metadata": {},
     "output_type": "execute_result"
    }
   ],
   "source": [
    "q.find(\"nly\")"
   ]
  },
  {
   "cell_type": "code",
   "execution_count": 23,
   "metadata": {},
   "outputs": [
    {
     "data": {
      "text/plain": [
       "9"
      ]
     },
     "execution_count": 23,
     "metadata": {},
     "output_type": "execute_result"
    }
   ],
   "source": [
    "q.find(\"step\")"
   ]
  },
  {
   "cell_type": "code",
   "execution_count": 24,
   "metadata": {},
   "outputs": [
    {
     "data": {
      "text/plain": [
       "45"
      ]
     },
     "execution_count": 24,
     "metadata": {},
     "output_type": "execute_result"
    }
   ],
   "source": [
    "q.rfind(\"step\")"
   ]
  },
  {
   "cell_type": "markdown",
   "metadata": {},
   "source": [
    "### wap to check if the data provided by the user is numeric or not, if its numeric ,convert it to int\n",
    "### else checkif it contains any numbers and extract that number"
   ]
  },
  {
   "cell_type": "code",
   "execution_count": 32,
   "metadata": {},
   "outputs": [
    {
     "name": "stdout",
     "output_type": "stream",
     "text": [
      "extracted number: 8929629486892\n"
     ]
    }
   ],
   "source": [
    "data = input(\"enter a data:\")\n",
    "if data.isnumeric():\n",
    "    num = int(data)\n",
    "    print(\"number:\",num)\n",
    "else:\n",
    "    temp =\"\"   # no space\n",
    "    for c in data:\n",
    "        if c.isnumeric():\n",
    "            temp+=c\n",
    "    num = int(temp)\n",
    "    print(\"extracted number:\",num)\n"
   ]
  },
  {
   "cell_type": "markdown",
   "metadata": {},
   "source": [
    "# remove all the punctuations from the following string\n",
    "@@hello#!^(&())*&()"
   ]
  },
  {
   "cell_type": "code",
   "execution_count": 38,
   "metadata": {},
   "outputs": [
    {
     "name": "stdout",
     "output_type": "stream",
     "text": [
      "hello\n"
     ]
    }
   ],
   "source": [
    "cache = \"@@hello#!^($())*&()\"\n",
    "special_characters = \"@@#!^($())*&()\"\n",
    "for special_character in special_characters:\n",
    "    cache = cache.replace(special_character,\"\")\n",
    "print(cache)\n"
   ]
  },
  {
   "cell_type": "code",
   "execution_count": 36,
   "metadata": {},
   "outputs": [],
   "source": [
    "from string import punctuation"
   ]
  },
  {
   "cell_type": "code",
   "execution_count": 37,
   "metadata": {},
   "outputs": [
    {
     "name": "stdout",
     "output_type": "stream",
     "text": [
      "  hello            \n"
     ]
    }
   ],
   "source": [
    "value = \"@@hello#!^($())*&()\"\n",
    "for p in punctuation:\n",
    "    value = value.replace(p,\" \")\n",
    "print(value)"
   ]
  },
  {
   "cell_type": "code",
   "execution_count": null,
   "metadata": {},
   "outputs": [],
   "source": []
  }
 ],
 "metadata": {
  "interpreter": {
   "hash": "d96f30410d69bc1823190cbdfe6966b0b636539644b56cc4c88546b2668fcfc1"
  },
  "kernelspec": {
   "display_name": "Python 3.9.5 64-bit ('base': conda)",
   "language": "python",
   "name": "python3"
  },
  "language_info": {
   "codemirror_mode": {
    "name": "ipython",
    "version": 3
   },
   "file_extension": ".py",
   "mimetype": "text/x-python",
   "name": "python",
   "nbconvert_exporter": "python",
   "pygments_lexer": "ipython3",
   "version": "3.9.5"
  },
  "orig_nbformat": 4
 },
 "nbformat": 4,
 "nbformat_minor": 2
}
