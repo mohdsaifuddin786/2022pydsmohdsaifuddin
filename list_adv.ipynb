{
 "cells": [
  {
   "cell_type": "markdown",
   "metadata": {},
   "source": [
    "# comprehension\n",
    "# lambda,map,reduce "
   ]
  },
  {
   "cell_type": "code",
   "execution_count": 2,
   "metadata": {},
   "outputs": [
    {
     "name": "stdout",
     "output_type": "stream",
     "text": [
      "[11, 12, 13, 14, 15, 16, 17, 18, 19, 20]\n"
     ]
    }
   ],
   "source": [
    "# normal code \n",
    "x = [1,2,3,4,5,6,7,8,9,10]\n",
    "x10 = []\n",
    "for i in x:\n",
    "    out = i +10\n",
    "    x10.append(out)\n",
    "print(x10)\n"
   ]
  },
  {
   "cell_type": "code",
   "execution_count": 3,
   "metadata": {},
   "outputs": [
    {
     "name": "stdout",
     "output_type": "stream",
     "text": [
      "[11]\n",
      "[11, 12]\n",
      "[11, 12, 13]\n",
      "[11, 12, 13, 14]\n",
      "[11, 12, 13, 14, 15]\n",
      "[11, 12, 13, 14, 15, 16]\n",
      "[11, 12, 13, 14, 15, 16, 17]\n",
      "[11, 12, 13, 14, 15, 16, 17, 18]\n",
      "[11, 12, 13, 14, 15, 16, 17, 18, 19]\n",
      "[11, 12, 13, 14, 15, 16, 17, 18, 19, 20]\n"
     ]
    }
   ],
   "source": [
    "# normal code \n",
    "x = [1,2,3,4,5,6,7,8,9,10]\n",
    "x10 = []\n",
    "for i in x:\n",
    "    out = i +10\n",
    "    x10.append(out)\n",
    "    print(x10)"
   ]
  },
  {
   "cell_type": "markdown",
   "metadata": {},
   "source": [
    "comprehension syntax\n",
    "- simple \n",
    "```\n",
    "newlist = [operation loop]\n",
    "``` \n",
    "- conditional\n",
    "```\n",
    "newlist = [operation loop]\n",
    "```"
   ]
  },
  {
   "cell_type": "code",
   "execution_count": 4,
   "metadata": {},
   "outputs": [
    {
     "name": "stdout",
     "output_type": "stream",
     "text": [
      "[-9, -8, -7, -6, -5, -4, -3, -2, -1, 0]\n"
     ]
    }
   ],
   "source": [
    "# pythonic\n",
    "xinv10 = [i-10 for i in x]\n",
    "print(xinv10)"
   ]
  },
  {
   "cell_type": "code",
   "execution_count": 5,
   "metadata": {},
   "outputs": [
    {
     "name": "stdout",
     "output_type": "stream",
     "text": [
      "[1, 4, 9, 16, 25, 36, 49, 64, 81, 100]\n"
     ]
    }
   ],
   "source": [
    "# xsqr\n",
    "xsqr10 = [i*i for i in x]\n",
    "print(xsqr10)"
   ]
  },
  {
   "cell_type": "code",
   "execution_count": 6,
   "metadata": {},
   "outputs": [
    {
     "name": "stdout",
     "output_type": "stream",
     "text": [
      "[1, 4, 9, 16, 25, 36, 49, 64, 81, 100]\n"
     ]
    }
   ],
   "source": [
    "# xsqr\n",
    "xsqr10 = [i**2 for i in x]\n",
    "print(xsqr10)"
   ]
  },
  {
   "cell_type": "code",
   "execution_count": 12,
   "metadata": {},
   "outputs": [
    {
     "name": "stdout",
     "output_type": "stream",
     "text": [
      "[4, 16, 36]\n"
     ]
    }
   ],
   "source": [
    "# normal code\n",
    "y = [1,2,3,4,5,6]\n",
    "ysqr_even = []\n",
    "for i in y:\n",
    "    if i%2 == 0:\n",
    "        sqr = i**2\n",
    "        ysqr_even.append(sqr)\n",
    "print(ysqr_even)"
   ]
  },
  {
   "cell_type": "code",
   "execution_count": 11,
   "metadata": {},
   "outputs": [
    {
     "data": {
      "text/plain": [
       "[1, 27, 125]"
      ]
     },
     "execution_count": 11,
     "metadata": {},
     "output_type": "execute_result"
    }
   ],
   "source": [
    "ycube_odd = [i**3 for i in y if i%2 !=0]\n",
    "ycube_odd"
   ]
  },
  {
   "cell_type": "code",
   "execution_count": 26,
   "metadata": {},
   "outputs": [
    {
     "name": "stdout",
     "output_type": "stream",
     "text": [
      "['stormblessed', 'kohlin', 'kohli']\n"
     ]
    }
   ],
   "source": [
    "# normal code\n",
    "names = ['kaladin stormblessed',\"adolin kohlin\",\"virat kohli\"]\n",
    "surname = []\n",
    "for name in names:\n",
    "    sn = name.split()[-1] # select last word\n",
    "    surname.append(sn)\n",
    "print(surname)"
   ]
  },
  {
   "cell_type": "code",
   "execution_count": 25,
   "metadata": {},
   "outputs": [
    {
     "name": "stdout",
     "output_type": "stream",
     "text": [
      "['stormblessed', 'kohlin', 'kohli', 'vallano']\n"
     ]
    }
   ],
   "source": [
    "# normal code\n",
    "names = ['kaladin stormblessed',\"adolin kohlin\",\"virat kohli\",\"szeth son son vallano\"]\n",
    "surname = []\n",
    "for name in names:\n",
    "    sn = name.split()[-1] # select last word\n",
    "    surname.append(sn)\n",
    "print(surname)"
   ]
  },
  {
   "cell_type": "code",
   "execution_count": 21,
   "metadata": {},
   "outputs": [
    {
     "name": "stdout",
     "output_type": "stream",
     "text": [
      "['kaladin', 'adolin', 'virat']\n"
     ]
    }
   ],
   "source": [
    "#normal code\n",
    "names = ['kaladin stormblessed',\"adolin kohlin\",\"virat kohli\"]\n",
    "surname = []\n",
    "for name in names:\n",
    "    sn = name.split()[0]  # select second last\n",
    "    surname.append(sn)\n",
    "print(surname)"
   ]
  },
  {
   "cell_type": "code",
   "execution_count": 24,
   "metadata": {},
   "outputs": [
    {
     "name": "stdout",
     "output_type": "stream",
     "text": [
      "['stormblessed', 'kohlin', 'kohli']\n"
     ]
    }
   ],
   "source": [
    "firstname = [name.split()[-1] for name in names]\n",
    "print(firstname)       # comprehension"
   ]
  },
  {
   "cell_type": "code",
   "execution_count": 23,
   "metadata": {},
   "outputs": [],
   "source": [
    "emps = [\"suraj\",\"ali\",\"mohan\",'suajay',\"suhail\",\"saif\",'bilal']\n",
    "# emps that contain`n`` in their name\n"
   ]
  },
  {
   "cell_type": "code",
   "execution_count": 29,
   "metadata": {},
   "outputs": [
    {
     "name": "stdout",
     "output_type": "stream",
     "text": [
      "['mohan']\n"
     ]
    }
   ],
   "source": [
    "# normal code\n",
    "emp_n =[]\n",
    "for name in emps:\n",
    "    if \"n\" in name:\n",
    "        emp_n.append(name)\n",
    "print(emp_n)"
   ]
  },
  {
   "cell_type": "code",
   "execution_count": 31,
   "metadata": {},
   "outputs": [
    {
     "name": "stdout",
     "output_type": "stream",
     "text": [
      "['suraj', 'suajay', 'suhail']\n"
     ]
    }
   ],
   "source": [
    "emps_u =[name for name in emps if \"u\" in name]\n",
    "print(emps_u)"
   ]
  },
  {
   "cell_type": "code",
   "execution_count": 32,
   "metadata": {},
   "outputs": [],
   "source": [
    "x = [1,2,3,4,5,6,]\n",
    "y = [2,3,5,1,2,5]\n",
    "# add x and y elements and put in z"
   ]
  },
  {
   "cell_type": "code",
   "execution_count": 38,
   "metadata": {},
   "outputs": [
    {
     "name": "stdout",
     "output_type": "stream",
     "text": [
      "[3, 5, 8, 5, 7, 11]\n"
     ]
    }
   ],
   "source": [
    "# normal code \n",
    "z = []\n",
    "for i in range(6):\n",
    "    val = x[i] + y[i]\n",
    "    z.append(val)\n",
    "print(z)\n",
    "# by self \n"
   ]
  },
  {
   "cell_type": "code",
   "execution_count": 37,
   "metadata": {},
   "outputs": [
    {
     "name": "stdout",
     "output_type": "stream",
     "text": [
      "[3, 5, 8, 5, 7, 11]\n"
     ]
    }
   ],
   "source": [
    "# normal code\n",
    "z = []\n",
    "for i,j in zip (x,y): # zip : more than one loop in one function execute\n",
    "    z.append(i+j)\n",
    "print(z)"
   ]
  },
  {
   "cell_type": "code",
   "execution_count": 41,
   "metadata": {},
   "outputs": [
    {
     "name": "stdout",
     "output_type": "stream",
     "text": [
      "[-1, -1, -2, 3, 3, 1]\n"
     ]
    }
   ],
   "source": [
    "a = [i-j for i,j in zip(x,y)]\n",
    "print(a)"
   ]
  },
  {
   "cell_type": "code",
   "execution_count": 42,
   "metadata": {},
   "outputs": [
    {
     "name": "stdout",
     "output_type": "stream",
     "text": [
      "[2, 6, 15, 4, 10, 30]\n"
     ]
    }
   ],
   "source": [
    "a = [i*j for i,j in zip(x,y)]\n",
    "print(a)"
   ]
  },
  {
   "cell_type": "code",
   "execution_count": null,
   "metadata": {},
   "outputs": [],
   "source": []
  }
 ],
 "metadata": {
  "interpreter": {
   "hash": "d96f30410d69bc1823190cbdfe6966b0b636539644b56cc4c88546b2668fcfc1"
  },
  "kernelspec": {
   "display_name": "Python 3.9.7 ('base')",
   "language": "python",
   "name": "python3"
  },
  "language_info": {
   "codemirror_mode": {
    "name": "ipython",
    "version": 3
   },
   "file_extension": ".py",
   "mimetype": "text/x-python",
   "name": "python",
   "nbconvert_exporter": "python",
   "pygments_lexer": "ipython3",
   "version": "3.9.7"
  },
  "orig_nbformat": 4
 },
 "nbformat": 4,
 "nbformat_minor": 2
}
