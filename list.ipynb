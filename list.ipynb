{
 "cells": [
  {
   "cell_type": "markdown",
   "metadata": {},
   "source": [
    "# List\n",
    "1. List can hold multiple values\n",
    "2. List is mutable(,add,remove item)\n",
    "3. List is indexed (indexing and slicing)\n",
    "4. List can have duplicate item\n",
    "5. List are represented by '[]' with comma seperate values\n",
    "6. List can have mixed value inside it\n",
    "7. List can be nested inside it"
   ]
  },
  {
   "cell_type": "markdown",
   "metadata": {},
   "source": [
    "### what u will learn\n",
    "1. ### creating\n",
    "2. ### indexing and slicing\n",
    "3. ### function(11)\n",
    "4. ### comprehension\n",
    "5. ### lambda,map, reduce"
   ]
  },
  {
   "cell_type": "code",
   "execution_count": 2,
   "metadata": {},
   "outputs": [],
   "source": [
    "# list of srting\n",
    "shard =[\"honor\",\"cultivation\",\"odium\",\"preservation\",\"ruin\"]\n",
    "# list of number\n",
    "primes = [2,3,4,5,6,7,]\n",
    "# mixed content\n",
    "info = [\"raju\",\"singh\",78,88,99,\"A\",True,89.5,\"perfect\"]"
   ]
  },
  {
   "cell_type": "code",
   "execution_count": 3,
   "metadata": {},
   "outputs": [
    {
     "data": {
      "text/plain": [
       "[10, 20, 30, 'cup', 'hello']"
      ]
     },
     "execution_count": 3,
     "metadata": {},
     "output_type": "execute_result"
    }
   ],
   "source": [
    "# list from variables\n",
    "a = 10\n",
    "b = 20\n",
    "c = 30\n",
    "d = \"cup\"\n",
    "e = \"hello\"\n",
    "items = [a,b,c,d,e]\n",
    "items"
   ]
  },
  {
   "cell_type": "code",
   "execution_count": 5,
   "metadata": {},
   "outputs": [],
   "source": [
    "games = []"
   ]
  },
  {
   "cell_type": "code",
   "execution_count": 7,
   "metadata": {},
   "outputs": [
    {
     "data": {
      "text/plain": [
       "['god of war', 'god of war']"
      ]
     },
     "execution_count": 7,
     "metadata": {},
     "output_type": "execute_result"
    }
   ],
   "source": [
    "games.append(\"god of war\")\n",
    "games"
   ]
  },
  {
   "cell_type": "code",
   "execution_count": 9,
   "metadata": {},
   "outputs": [],
   "source": [
    "games.append(\"assains creed\")\n",
    "games.append(\"gear s\")\n",
    "games.append(\"valorant\")\n",
    "games.append(\"gta v\")"
   ]
  },
  {
   "cell_type": "code",
   "execution_count": 10,
   "metadata": {},
   "outputs": [
    {
     "name": "stdout",
     "output_type": "stream",
     "text": [
      "['god of war', 'god of war', 'assains creed', 'gear s', 'valorant', 'gta v', 'assains creed', 'gear s', 'valorant', 'gta v']\n"
     ]
    }
   ],
   "source": [
    "print(games)"
   ]
  },
  {
   "cell_type": "code",
   "execution_count": 13,
   "metadata": {},
   "outputs": [
    {
     "name": "stdout",
     "output_type": "stream",
     "text": [
      "['shirmal', 'kawab', 'biryani']\n"
     ]
    }
   ],
   "source": [
    "fav_foods = []\n",
    "for i in range (3):\n",
    "    food = input(\"enter ur fav food=>\")\n",
    "    fav_foods.append(food)\n",
    "print(fav_foods)\n"
   ]
  },
  {
   "cell_type": "markdown",
   "metadata": {},
   "source": [
    "# indexing slicing and vale  modification"
   ]
  },
  {
   "cell_type": "code",
   "execution_count": 15,
   "metadata": {},
   "outputs": [
    {
     "data": {
      "text/plain": [
       "['honor', 'cultivation', 'odium', 'preservation', 'ruin']"
      ]
     },
     "execution_count": 15,
     "metadata": {},
     "output_type": "execute_result"
    }
   ],
   "source": [
    "shard"
   ]
  },
  {
   "cell_type": "code",
   "execution_count": 16,
   "metadata": {},
   "outputs": [
    {
     "data": {
      "text/plain": [
       "'honor'"
      ]
     },
     "execution_count": 16,
     "metadata": {},
     "output_type": "execute_result"
    }
   ],
   "source": [
    "shard [0]"
   ]
  },
  {
   "cell_type": "code",
   "execution_count": 17,
   "metadata": {},
   "outputs": [
    {
     "data": {
      "text/plain": [
       "'odium'"
      ]
     },
     "execution_count": 17,
     "metadata": {},
     "output_type": "execute_result"
    }
   ],
   "source": [
    "shard [2]"
   ]
  },
  {
   "cell_type": "code",
   "execution_count": 20,
   "metadata": {},
   "outputs": [],
   "source": [
    "shard[3] = \"harmony\" # mutable"
   ]
  },
  {
   "cell_type": "code",
   "execution_count": 19,
   "metadata": {},
   "outputs": [
    {
     "data": {
      "text/plain": [
       "['honor', 'cultivation', 'odium', 'harmony', 'ruin']"
      ]
     },
     "execution_count": 19,
     "metadata": {},
     "output_type": "execute_result"
    }
   ],
   "source": [
    "shard"
   ]
  },
  {
   "cell_type": "code",
   "execution_count": 21,
   "metadata": {},
   "outputs": [
    {
     "data": {
      "text/plain": [
       "['honor', 'cultivation', 'odium', 'harmony', 'ruin']"
      ]
     },
     "execution_count": 21,
     "metadata": {},
     "output_type": "execute_result"
    }
   ],
   "source": [
    "shard"
   ]
  },
  {
   "cell_type": "code",
   "execution_count": 22,
   "metadata": {},
   "outputs": [],
   "source": [
    "shard.append(\"autonomy\")\n",
    "shard.append(\"dowinion\")\n",
    "shard.append(\"devotion\")\n",
    "shard.append(\"colonolo\")\n",
    "shard .append(\"multi\")"
   ]
  },
  {
   "cell_type": "code",
   "execution_count": 23,
   "metadata": {},
   "outputs": [
    {
     "data": {
      "text/plain": [
       "['honor',\n",
       " 'cultivation',\n",
       " 'odium',\n",
       " 'harmony',\n",
       " 'ruin',\n",
       " 'autonomy',\n",
       " 'dowinion',\n",
       " 'devotion',\n",
       " 'colonolo',\n",
       " 'multi']"
      ]
     },
     "execution_count": 23,
     "metadata": {},
     "output_type": "execute_result"
    }
   ],
   "source": [
    "shard"
   ]
  },
  {
   "cell_type": "code",
   "execution_count": 24,
   "metadata": {},
   "outputs": [
    {
     "data": {
      "text/plain": [
       "10"
      ]
     },
     "execution_count": 24,
     "metadata": {},
     "output_type": "execute_result"
    }
   ],
   "source": [
    "len(shard)"
   ]
  },
  {
   "cell_type": "code",
   "execution_count": 25,
   "metadata": {},
   "outputs": [
    {
     "data": {
      "text/plain": [
       "['honor', 'cultivation', 'odium', 'harmony', 'ruin']"
      ]
     },
     "execution_count": 25,
     "metadata": {},
     "output_type": "execute_result"
    }
   ],
   "source": [
    "shard[:5] # first five"
   ]
  },
  {
   "cell_type": "code",
   "execution_count": 26,
   "metadata": {},
   "outputs": [
    {
     "data": {
      "text/plain": [
       "['devotion', 'colonolo', 'multi']"
      ]
     },
     "execution_count": 26,
     "metadata": {},
     "output_type": "execute_result"
    }
   ],
   "source": [
    "shard[-3:] # last three"
   ]
  },
  {
   "cell_type": "code",
   "execution_count": 27,
   "metadata": {},
   "outputs": [
    {
     "data": {
      "text/plain": [
       "['harmony', 'ruin', 'autonomy', 'dowinion', 'devotion']"
      ]
     },
     "execution_count": 27,
     "metadata": {},
     "output_type": "execute_result"
    }
   ],
   "source": [
    "shard[3:8] # from 3rd index to 7th index"
   ]
  },
  {
   "cell_type": "code",
   "execution_count": 30,
   "metadata": {},
   "outputs": [
    {
     "data": {
      "text/plain": [
       "['honor', 'odium', 'ruin', 'dowinion', 'colonolo']"
      ]
     },
     "execution_count": 30,
     "metadata": {},
     "output_type": "execute_result"
    }
   ],
   "source": [
    "shard[::2] # starting to end > every 2 item or allthe even index"
   ]
  },
  {
   "cell_type": "code",
   "execution_count": 31,
   "metadata": {},
   "outputs": [
    {
     "data": {
      "text/plain": [
       "['cultivation', 'harmony', 'autonomy', 'devotion', 'multi']"
      ]
     },
     "execution_count": 31,
     "metadata": {},
     "output_type": "execute_result"
    }
   ],
   "source": [
    "shard[1::2] # all the odd index"
   ]
  },
  {
   "cell_type": "code",
   "execution_count": 33,
   "metadata": {},
   "outputs": [
    {
     "data": {
      "text/plain": [
       "['multi',\n",
       " 'colonolo',\n",
       " 'devotion',\n",
       " 'dowinion',\n",
       " 'autonomy',\n",
       " 'ruin',\n",
       " 'harmony',\n",
       " 'odium',\n",
       " 'cultivation',\n",
       " 'honor']"
      ]
     },
     "execution_count": 33,
     "metadata": {},
     "output_type": "execute_result"
    }
   ],
   "source": [
    "shard[::-1] # reverse"
   ]
  },
  {
   "cell_type": "markdown",
   "metadata": {},
   "source": [
    "# 17 feb 2022"
   ]
  },
  {
   "cell_type": "markdown",
   "metadata": {},
   "source": [
    "# function\n",
    "- (list have 11 function)\n",
    "- adding items\n",
    "      - append()\n",
    "      -  insert()\n",
    "      - extend()\n",
    "- deleting items\n",
    "      - remove()\n",
    "      - pop()\n",
    "      - clear()\n",
    "- utility items\n",
    "      - reverse()\n",
    "      - sort()\n",
    "      - copy()\n",
    "      - count()\n",
    "      - index()\n",
    "\n",
    "      "
   ]
  },
  {
   "cell_type": "code",
   "execution_count": 5,
   "metadata": {},
   "outputs": [
    {
     "data": {
      "text/plain": [
       "['apple', 'cherry', 'fig', 'guava']"
      ]
     },
     "execution_count": 5,
     "metadata": {},
     "output_type": "execute_result"
    }
   ],
   "source": [
    "fruits = [] # empty list\n",
    "fruits.append(\"apple\")\n",
    "fruits.append('cherry')\n",
    "fruits.append(\"fig\")\n",
    "fruits.append('guava')\n",
    "fruits"
   ]
  },
  {
   "cell_type": "code",
   "execution_count": 6,
   "metadata": {},
   "outputs": [
    {
     "data": {
      "text/plain": [
       "['apple', 'banana', 'cherry', 'fig', 'guava']"
      ]
     },
     "execution_count": 6,
     "metadata": {},
     "output_type": "execute_result"
    }
   ],
   "source": [
    "fruits.insert(1,\"banana\")\n",
    "fruits"
   ]
  },
  {
   "cell_type": "code",
   "execution_count": 7,
   "metadata": {},
   "outputs": [
    {
     "data": {
      "text/plain": [
       "['apple', 'banana', 'cherry', 'dragon fruit', 'fig', 'guava']"
      ]
     },
     "execution_count": 7,
     "metadata": {},
     "output_type": "execute_result"
    }
   ],
   "source": [
    "fruits.insert(3,\"dragon fruit\")\n",
    "fruits"
   ]
  },
  {
   "cell_type": "code",
   "execution_count": 11,
   "metadata": {},
   "outputs": [
    {
     "data": {
      "text/plain": [
       "['apple',\n",
       " 'avocado',\n",
       " 'avocado',\n",
       " 'avocado',\n",
       " 'avacado',\n",
       " 'banana',\n",
       " 'cherry',\n",
       " 'dragon fruit',\n",
       " 'fig',\n",
       " 'guava']"
      ]
     },
     "execution_count": 11,
     "metadata": {},
     "output_type": "execute_result"
    }
   ],
   "source": [
    "fruits.insert(1,\"avocado\")\n",
    "fruits"
   ]
  },
  {
   "cell_type": "code",
   "execution_count": 12,
   "metadata": {},
   "outputs": [],
   "source": [
    "dry_fruits = {\"almond\",\"cashew\",\"walnut\"}"
   ]
  },
  {
   "cell_type": "code",
   "execution_count": 14,
   "metadata": {},
   "outputs": [
    {
     "data": {
      "text/plain": [
       "['apple',\n",
       " 'avocado',\n",
       " 'avocado',\n",
       " 'avocado',\n",
       " 'avacado',\n",
       " 'banana',\n",
       " 'cherry',\n",
       " 'dragon fruit',\n",
       " 'fig',\n",
       " 'guava',\n",
       " 'cashew',\n",
       " 'walnut',\n",
       " 'almond']"
      ]
     },
     "execution_count": 14,
     "metadata": {},
     "output_type": "execute_result"
    }
   ],
   "source": [
    "fruits.extend(dry_fruits)\n",
    "fruits"
   ]
  },
  {
   "cell_type": "code",
   "execution_count": 15,
   "metadata": {},
   "outputs": [
    {
     "data": {
      "text/plain": [
       "True"
      ]
     },
     "execution_count": 15,
     "metadata": {},
     "output_type": "execute_result"
    }
   ],
   "source": [
    "\"fig\" in fruits"
   ]
  },
  {
   "cell_type": "code",
   "execution_count": 16,
   "metadata": {},
   "outputs": [
    {
     "data": {
      "text/plain": [
       "['apple',\n",
       " 'avocado',\n",
       " 'avocado',\n",
       " 'avocado',\n",
       " 'avacado',\n",
       " 'banana',\n",
       " 'cherry',\n",
       " 'dragon fruit',\n",
       " 'fig',\n",
       " 'guava',\n",
       " 'walnut',\n",
       " 'almond']"
      ]
     },
     "execution_count": 16,
     "metadata": {},
     "output_type": "execute_result"
    }
   ],
   "source": [
    "fruits.remove('cashew') if \"cashew\" in fruits else \"not found\"\n",
    "fruits"
   ]
  },
  {
   "cell_type": "code",
   "execution_count": 18,
   "metadata": {},
   "outputs": [
    {
     "name": "stdout",
     "output_type": "stream",
     "text": [
      "no fig found\n"
     ]
    }
   ],
   "source": [
    "if \"fig\" in fruits:\n",
    "    fruits.remove(\"fig\")\n",
    "else:\n",
    "    print(\"no fig found\")"
   ]
  },
  {
   "cell_type": "code",
   "execution_count": 19,
   "metadata": {},
   "outputs": [
    {
     "data": {
      "text/plain": [
       "['apple',\n",
       " 'avocado',\n",
       " 'avocado',\n",
       " 'avocado',\n",
       " 'avacado',\n",
       " 'banana',\n",
       " 'cherry',\n",
       " 'dragon fruit',\n",
       " 'guava',\n",
       " 'walnut',\n",
       " 'almond']"
      ]
     },
     "execution_count": 19,
     "metadata": {},
     "output_type": "execute_result"
    }
   ],
   "source": [
    "fruits"
   ]
  },
  {
   "cell_type": "markdown",
   "metadata": {},
   "source": [
    "pop work in two ways\n",
    "- list.pop(idx) => remove the item from given index, and return the removed value\n",
    "- list.pop() => remove the item from bottom and return the value remove"
   ]
  },
  {
   "cell_type": "code",
   "execution_count": 20,
   "metadata": {},
   "outputs": [
    {
     "data": {
      "text/plain": [
       "'avocado'"
      ]
     },
     "execution_count": 20,
     "metadata": {},
     "output_type": "execute_result"
    }
   ],
   "source": [
    "fruits.pop(3)"
   ]
  },
  {
   "cell_type": "code",
   "execution_count": 21,
   "metadata": {},
   "outputs": [
    {
     "data": {
      "text/plain": [
       "'almond'"
      ]
     },
     "execution_count": 21,
     "metadata": {},
     "output_type": "execute_result"
    }
   ],
   "source": [
    "fruits.pop() # last item will be remove"
   ]
  },
  {
   "cell_type": "code",
   "execution_count": 22,
   "metadata": {},
   "outputs": [
    {
     "data": {
      "text/plain": [
       "['apple',\n",
       " 'avocado',\n",
       " 'avocado',\n",
       " 'avacado',\n",
       " 'banana',\n",
       " 'cherry',\n",
       " 'dragon fruit',\n",
       " 'guava',\n",
       " 'walnut']"
      ]
     },
     "execution_count": 22,
     "metadata": {},
     "output_type": "execute_result"
    }
   ],
   "source": [
    "fruits"
   ]
  },
  {
   "cell_type": "code",
   "execution_count": 24,
   "metadata": {},
   "outputs": [
    {
     "data": {
      "text/plain": [
       "'walnut'"
      ]
     },
     "execution_count": 24,
     "metadata": {},
     "output_type": "execute_result"
    }
   ],
   "source": [
    "fruits.pop()"
   ]
  },
  {
   "cell_type": "code",
   "execution_count": 25,
   "metadata": {},
   "outputs": [
    {
     "data": {
      "text/plain": [
       "['apple',\n",
       " 'avocado',\n",
       " 'avocado',\n",
       " 'avacado',\n",
       " 'banana',\n",
       " 'cherry',\n",
       " 'dragon fruit',\n",
       " 'guava']"
      ]
     },
     "execution_count": 25,
     "metadata": {},
     "output_type": "execute_result"
    }
   ],
   "source": [
    "fruits"
   ]
  },
  {
   "cell_type": "code",
   "execution_count": 26,
   "metadata": {},
   "outputs": [
    {
     "data": {
      "text/plain": [
       "[]"
      ]
     },
     "execution_count": 26,
     "metadata": {},
     "output_type": "execute_result"
    }
   ],
   "source": [
    "fruits.clear()\n",
    "fruits"
   ]
  },
  {
   "cell_type": "code",
   "execution_count": 27,
   "metadata": {},
   "outputs": [],
   "source": [
    "movies = [\"pushpa: the rise\",\"atrangi re\",\"suryavanshi\",\"boss baby\",\"spider man: no way home\",\"venom:let there be carnage\"]"
   ]
  },
  {
   "cell_type": "code",
   "execution_count": 28,
   "metadata": {},
   "outputs": [
    {
     "data": {
      "text/plain": [
       "['venom:let there be carnage',\n",
       " 'spider man: no way home',\n",
       " 'boss baby',\n",
       " 'suryavanshi',\n",
       " 'atrangi re',\n",
       " 'pushpa: the rise']"
      ]
     },
     "execution_count": 28,
     "metadata": {},
     "output_type": "execute_result"
    }
   ],
   "source": [
    "movies.reverse()\n",
    "movies"
   ]
  },
  {
   "cell_type": "code",
   "execution_count": 29,
   "metadata": {},
   "outputs": [
    {
     "data": {
      "text/plain": [
       "['atrangi re',\n",
       " 'boss baby',\n",
       " 'pushpa: the rise',\n",
       " 'spider man: no way home',\n",
       " 'suryavanshi',\n",
       " 'venom:let there be carnage']"
      ]
     },
     "execution_count": 29,
     "metadata": {},
     "output_type": "execute_result"
    }
   ],
   "source": [
    "movies.sort()\n",
    "movies"
   ]
  },
  {
   "cell_type": "code",
   "execution_count": 30,
   "metadata": {},
   "outputs": [
    {
     "data": {
      "text/plain": [
       "['venom:let there be carnage',\n",
       " 'suryavanshi',\n",
       " 'spider man: no way home',\n",
       " 'pushpa: the rise',\n",
       " 'boss baby',\n",
       " 'atrangi re']"
      ]
     },
     "execution_count": 30,
     "metadata": {},
     "output_type": "execute_result"
    }
   ],
   "source": [
    "movies.sort( reverse = True)\n",
    "movies"
   ]
  },
  {
   "cell_type": "code",
   "execution_count": 31,
   "metadata": {},
   "outputs": [
    {
     "data": {
      "text/plain": [
       "['atrangi re',\n",
       " 'boss baby',\n",
       " 'pushpa: the rise',\n",
       " 'spider man: no way home',\n",
       " 'suryavanshi',\n",
       " 'venom:let there be carnage']"
      ]
     },
     "execution_count": 31,
     "metadata": {},
     "output_type": "execute_result"
    }
   ],
   "source": [
    "sorted(movies)"
   ]
  },
  {
   "cell_type": "code",
   "execution_count": 32,
   "metadata": {},
   "outputs": [],
   "source": [
    "movies_temp = movies.copy() # duplicate item or backup"
   ]
  },
  {
   "cell_type": "code",
   "execution_count": 33,
   "metadata": {},
   "outputs": [
    {
     "data": {
      "text/plain": [
       "['venom:let there be carnage',\n",
       " 'suryavanshi',\n",
       " 'spider man: no way home',\n",
       " 'pushpa: the rise',\n",
       " 'boss baby',\n",
       " 'atrangi re']"
      ]
     },
     "execution_count": 33,
     "metadata": {},
     "output_type": "execute_result"
    }
   ],
   "source": [
    "movies_temp"
   ]
  },
  {
   "cell_type": "code",
   "execution_count": 34,
   "metadata": {},
   "outputs": [],
   "source": [
    "x = [ 1,1,1,2,3,4,2,1,4,3,2,1,1,2,3,4,5]"
   ]
  },
  {
   "cell_type": "code",
   "execution_count": 37,
   "metadata": {},
   "outputs": [
    {
     "data": {
      "text/plain": [
       "4"
      ]
     },
     "execution_count": 37,
     "metadata": {},
     "output_type": "execute_result"
    }
   ],
   "source": [
    "x.count(2)"
   ]
  },
  {
   "cell_type": "code",
   "execution_count": 38,
   "metadata": {},
   "outputs": [
    {
     "data": {
      "text/plain": [
       "6"
      ]
     },
     "execution_count": 38,
     "metadata": {},
     "output_type": "execute_result"
    }
   ],
   "source": [
    "x.count(1)"
   ]
  },
  {
   "cell_type": "code",
   "execution_count": 39,
   "metadata": {},
   "outputs": [
    {
     "data": {
      "text/plain": [
       "0"
      ]
     },
     "execution_count": 39,
     "metadata": {},
     "output_type": "execute_result"
    }
   ],
   "source": [
    "x.count(8)"
   ]
  },
  {
   "cell_type": "code",
   "execution_count": 40,
   "metadata": {},
   "outputs": [
    {
     "data": {
      "text/plain": [
       "['venom:let there be carnage',\n",
       " 'suryavanshi',\n",
       " 'spider man: no way home',\n",
       " 'pushpa: the rise',\n",
       " 'boss baby',\n",
       " 'atrangi re']"
      ]
     },
     "execution_count": 40,
     "metadata": {},
     "output_type": "execute_result"
    }
   ],
   "source": [
    "movies"
   ]
  },
  {
   "cell_type": "code",
   "execution_count": 42,
   "metadata": {},
   "outputs": [
    {
     "data": {
      "text/plain": [
       "4"
      ]
     },
     "execution_count": 42,
     "metadata": {},
     "output_type": "execute_result"
    }
   ],
   "source": [
    "movies.index(\"boss baby\")"
   ]
  },
  {
   "cell_type": "code",
   "execution_count": 44,
   "metadata": {},
   "outputs": [
    {
     "data": {
      "text/plain": [
       "5"
      ]
     },
     "execution_count": 44,
     "metadata": {},
     "output_type": "execute_result"
    }
   ],
   "source": [
    "movies.index(\"atrangi re\")"
   ]
  },
  {
   "cell_type": "markdown",
   "metadata": {},
   "source": [
    "### wap to add 10 numbers in a list from user input and then display sum,mean,max,min from the list"
   ]
  },
  {
   "cell_type": "markdown",
   "metadata": {},
   "source": [
    "#### never create variable called sum"
   ]
  },
  {
   "cell_type": "code",
   "execution_count": 52,
   "metadata": {},
   "outputs": [
    {
     "name": "stdout",
     "output_type": "stream",
     "text": [
      "sum of numbers=> 16997\n",
      "mean of numbers=> 1699.7\n",
      "max value=> 9876\n",
      "min value=> 98\n"
     ]
    }
   ],
   "source": [
    "numbers = []\n",
    "for i in range(10):\n",
    "    val  = int(input(f\"enter number {i+1}\"))\n",
    "    numbers.append(val)\n",
    "print(\"sum of numbers=>\",sum(numbers))\n",
    "print(\"mean of numbers=>\",sum(numbers)/len(numbers))\n",
    "print(\"max value=>\",max(numbers))\n",
    "print(\"min value=>\",min(numbers))\n",
    "\n",
    "\n",
    "\n",
    "\n"
   ]
  },
  {
   "cell_type": "code",
   "execution_count": null,
   "metadata": {},
   "outputs": [],
   "source": []
  },
  {
   "cell_type": "code",
   "execution_count": null,
   "metadata": {},
   "outputs": [],
   "source": []
  }
 ],
 "metadata": {
  "interpreter": {
   "hash": "d96f30410d69bc1823190cbdfe6966b0b636539644b56cc4c88546b2668fcfc1"
  },
  "kernelspec": {
   "display_name": "Python 3.9.5 ('base')",
   "language": "python",
   "name": "python3"
  },
  "language_info": {
   "codemirror_mode": {
    "name": "ipython",
    "version": 3
   },
   "file_extension": ".py",
   "mimetype": "text/x-python",
   "name": "python",
   "nbconvert_exporter": "python",
   "pygments_lexer": "ipython3",
   "version": "3.9.7"
  },
  "orig_nbformat": 4
 },
 "nbformat": 4,
 "nbformat_minor": 2
}
